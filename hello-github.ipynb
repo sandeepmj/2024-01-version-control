{
 "cells": [
  {
   "cell_type": "markdown",
   "id": "93fb0ba1",
   "metadata": {},
   "source": [
    "## this is to demo github version control"
   ]
  },
  {
   "cell_type": "code",
   "execution_count": 1,
   "id": "58992dbc",
   "metadata": {},
   "outputs": [],
   "source": [
    "monthly_rent = 500\n",
    "monthly_income = 1_200\n",
    "food = 300"
   ]
  },
  {
   "cell_type": "code",
   "execution_count": 2,
   "id": "ade287f5",
   "metadata": {},
   "outputs": [
    {
     "data": {
      "text/plain": [
       "400"
      ]
     },
     "execution_count": 2,
     "metadata": {},
     "output_type": "execute_result"
    }
   ],
   "source": [
    "balance = monthly_income - monthly_rent - food\n",
    "balance"
   ]
  },
  {
   "cell_type": "code",
   "execution_count": null,
   "id": "25f586ae",
   "metadata": {},
   "outputs": [],
   "source": []
  }
 ],
 "metadata": {
  "kernelspec": {
   "display_name": "Python 3 (ipykernel)",
   "language": "python",
   "name": "python3"
  },
  "language_info": {
   "codemirror_mode": {
    "name": "ipython",
    "version": 3
   },
   "file_extension": ".py",
   "mimetype": "text/x-python",
   "name": "python",
   "nbconvert_exporter": "python",
   "pygments_lexer": "ipython3",
   "version": "3.9.7"
  }
 },
 "nbformat": 4,
 "nbformat_minor": 5
}
